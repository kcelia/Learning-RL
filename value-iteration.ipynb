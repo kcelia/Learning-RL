{
 "cells": [
  {
   "cell_type": "code",
   "execution_count": 1,
   "metadata": {},
   "outputs": [],
   "source": [
    "import argparse\n",
    "import sys\n",
    "import matplotlib \n",
    "#matplotlib.use(\"TkAgg\")\n",
    "import matplotlib.pyplot as plt\n",
    "import gym\n",
    "import envs\n",
    "import pickle\n",
    "#import gridworld_env\n",
    "from gym import wrappers, logger\n",
    "import numpy as np\n",
    "import copy"
   ]
  },
  {
   "cell_type": "raw",
   "metadata": {},
   "source": [
    "Rappel sur la structure retournée par envx.getMPD()  :\n",
    "\n",
    "envx.getMPD() return (states,P)\n",
    "print(type(envx.getMDP())) = <class 'tuple'>\n",
    "\n",
    "states:\n",
    "print(type(envx.getMDP()[0])) = <class 'dict'> with 11 keys\n",
    "(key, value) = (state's name, num) = <, int>\n",
    "\n",
    "P: (state's name, dict(action's num))\n",
    "<state's name: 0:(proba de la transition, état destination (name's key), reward, done)\n",
    "               1:(proba de la transition, état destination (name's key), reward, done)\n",
    "               2:(proba de la transition, état destination (name's key), reward, done)\n",
    "               3:(proba de la transition, état destination (name's key), reward, done)>\n",
    ">               \n",
    "type(envx.getMDP()[1]) = dict\n",
    "\n",
    "En vraie, une observation de l'etat est une observation partielle de l'état complet de l'univers (!= d'une observation totale). Le paramètre d'observation partielle peut etre réduit à un paramètre pleinement observé avec l'utilisation d'historique (l'état devient une accumulation d'état précédents).\n",
    "Néansmois, il n'est pas courant de ne pas accumler toute l'histoire. soit seules les dernieres observations h sont cumulées => Chaine de Markov.\n",
    "Par un abus de langages, l'observation = Etat\n",
    "Ici l'état est une observation 6*6, certaines cases sont accessibles par le robot. Le robot = agent = 2 (par déduction)"
   ]
  },
  {
   "cell_type": "markdown",
   "metadata": {},
   "source": [
    "Etant donné, que les données retournées par envx.getMDP() sont peu lisibles et moins facile a manipuler, on se propose de re-structurer des données. De sorte d'avoir un dictionnaire organiser de la façon suivante:\n",
    "proba = {state's num : action's num : {next_state: proba}*}\n",
    "rewards = {state's num : action's num : {next_state: reward}*}"
   ]
  },
  {
   "cell_type": "code",
   "execution_count": 2,
   "metadata": {},
   "outputs": [],
   "source": [
    "#transformation\n",
    "def transform(envx, norm=True):\n",
    "    \"\"\"return proba sous le format decrit plus haut et rewards\n",
    "    \"\"\"\n",
    "    \n",
    "    #version 1\n",
    "    \"\"\"    proba = {}\n",
    "    for state_name, rest in envx.getMDP()[1].items():     \n",
    "            actions = {}\n",
    "            for action in rest.keys():\n",
    "                transitions = {}   \n",
    "                for p in rest[action]:\n",
    "                    transitions[envx.getMDP()[0][p[1]]] = p[0]\n",
    "                actions[action] = transitions\n",
    "            proba[envx.getMDP()[0][state_name]] = actions\n",
    "    \"\"\"\n",
    "    #version 2\n",
    "    proba = { envx.getMDP()[0][state_name]: \n",
    "    { \n",
    "        action : \n",
    "        {\n",
    "            envx.getMDP()[0][p[1]] :  \n",
    "            p[0]  for p in rest[action] \n",
    "        } \n",
    "        for action in rest.keys()\n",
    "    }\n",
    "    for state_name, rest in envx.getMDP()[1].items()\n",
    "   }\n",
    "    #normalisation des probas\n",
    "    if norm:\n",
    "        #version 1\n",
    "        for s in proba:\n",
    "            for a in proba[s]:\n",
    "                tmp = np.sum(list(proba[s][a].values()))\n",
    "                for k, v in proba[s][a].items():\n",
    "                    proba[s][a][k] = v/tmp         \n",
    "        #vesrion 2\n",
    "        #proba = {state: {a: {proba[state][a][s]: j/np.sum(list(proba[state][a].values())) \n",
    "        #     for s, j in proba[state][a].items()}for a in proba[state]}for state, v in proba.items()}\n",
    "        #version 2               \n",
    "    rewards = { envx.getMDP()[0][state_name]: \n",
    "    { \n",
    "        action : \n",
    "        {\n",
    "            envx.getMDP()[0][p[1]] :  \n",
    "            p[2]  for p in rest[action] \n",
    "        } \n",
    "        for action in rest.keys()\n",
    "    }\n",
    "    for state_name, rest in envx.getMDP()[1].items()\n",
    "   }\n",
    "    return proba, rewards"
   ]
  },
  {
   "cell_type": "code",
   "execution_count": 3,
   "metadata": {},
   "outputs": [],
   "source": [
    "class ValueIteration(object):\n",
    "    \n",
    "    def __init__(self, envx, plan, discount=1, eps=.0001, robot=2):\n",
    "        self.eps = eps\n",
    "        self.envx = envx\n",
    "        self.robot = robot \n",
    "        self.plan = plan\n",
    "        self.discount = discount\n",
    "        self.action_space = envx.action_space \n",
    "        self.proba, self.rewards = transform(envx)\n",
    "        #self.values : dict mieux que array car ils manquent certains etats\n",
    "        self.values =  {state : 0 for state in envx.getMDP()[0].values()}\n",
    "        # <!> les observations sont dans un fichier binaires,  sér\n",
    "        self.observation_to_state = {str(pickle.loads(list(envx.getMDP()[0].keys())[state])): \n",
    "                        state  for state in envx.getMDP()[0].values()} \n",
    "        \n",
    "    def get_action_value(self, current_state, action):\n",
    "        #version 1\n",
    "        #t = np.sum([prob*(self.rewards[current_state][action][next_state] + self.discount*self.values[next_state]) for next_state, prob in self.proba[current_state][action].items()])\n",
    "        #return t\n",
    "        q = 0\n",
    "        for next_state, prob in self.proba[current_state][action].items():\n",
    "            q += prob*(self.rewards[current_state][action][next_state]+self.discount*self.values[next_state])              \n",
    "        return q\n",
    "\n",
    "    def get_new_state_value(self, current_state):\n",
    "        values = [self.get_action_value(current_state, action) for action in self.proba[current_state]]\n",
    "        action =  np.argmax(values)\n",
    "        value = values[int(action)]\n",
    "        return action, value\n",
    "    \n",
    "    def check_policy(self, state):\n",
    "        if state not in self.policy_dico.keys():\n",
    "            #ce cas n'est pas arrivé\n",
    "            self.policy_dico[state] = None\n",
    "        return self.policy_dico[state]\n",
    "    \n",
    "    def fit(self):\n",
    "        delta = np.inf\n",
    "        \n",
    "        while delta > self.eps:\n",
    "            delta = 0\n",
    "            for state in self.proba:\n",
    "                v_old = self.values[state]\n",
    "                new_action, new_value = self.get_new_state_value(state)\n",
    "                self.values[state] = new_value\n",
    "                delta = max(delta, abs(v_old - self.values[state]))      \n",
    "        self.policy_dico = {state:  self.get_new_state_value(state)[0] for state in self.proba }\n",
    "        \n",
    "    def plt_values(self):\n",
    "        grid_size = pickle.loads(list(self.envx.getMDP()[0].keys())[5]).shape\n",
    "        self.grid = np.zeros(grid_size)\n",
    "        \n",
    "        for state_name, state_num in self.envx.getMDP()[0].items():\n",
    "            state_serial = np.array(pickle.loads(state_name))\n",
    "            x, y  = np.where(state_serial == self.robot)\n",
    "            self.grid[x, y] = self.values[state_num]\n",
    "        print(self.values)\n",
    "        plt.title(str(self.plan))\n",
    "        plt.imshow(self.grid, cmap ='gray')\n",
    "        plt.show()\n",
    "        \n",
    "\n",
    "    def act(self, observation, reward, done):\n",
    "        return self.check_policy(self.observation_to_state[str(observation)])"
   ]
  },
  {
   "cell_type": "code",
   "execution_count": 14,
   "metadata": {},
   "outputs": [],
   "source": [
    "def main(plan):\n",
    "    outdir = 'gridworld-v0/random-agent-results'\n",
    "    envx = gym.make('gridworld-v0')\n",
    "    env = wrappers.Monitor(envx, directory=outdir, force=True, video_callable=False)\n",
    "    env.seed(0)\n",
    "    episode_count = 1000\n",
    "    reward = 0\n",
    "    done = False\n",
    "    envx.verbose = True\n",
    "    envx.setPlan(\"gridworldPlans/plan0.txt\", plan )\n",
    "\n",
    "    agent = ValueIteration(envx, plan)\n",
    "    #np.random.seed(5)\n",
    "    agent.fit()\n",
    "    rsum=0\n",
    "\n",
    "    for i in range(episode_count):\n",
    "        ob = env.reset()\n",
    "\n",
    "        if i % 100 == 0 and i > 0:\n",
    "            envx.verbose = True\n",
    "        else:\n",
    "            envx.verbose = False\n",
    "\n",
    "        if envx.verbose:\n",
    "                #envx.render(1)\n",
    "                1\n",
    "        j = 0\n",
    "        #print(str(ob))\n",
    "        while True:\n",
    "\n",
    "            action = agent.act(ob, reward, done)\n",
    "            ob, reward, done, _ = env.step(action)\n",
    "            rsum+=reward\n",
    "            j += 1\n",
    "            if envx.verbose:\n",
    "                #envx.render()\n",
    "                1\n",
    "            if done:\n",
    "                #print(str(i)+\" rsum=\"+str(rsum)+\", \"+str(j)+\" actions\")\n",
    "                rsum=0\n",
    "                break\n",
    "\n",
    "    print(\"done\")\n",
    "    env.close()\n",
    "    return agent, envx\n",
    "    #agent.plt_values()"
   ]
  },
  {
   "cell_type": "raw",
   "metadata": {},
   "source": [
    "Comportement de l’agent selon la récompense :\n",
    "Case bleue = Perdu (état final)\n",
    "Case verte = Gagné (état final)\n",
    "\n",
    "D'apres les expériences réalisées : \n",
    "\n",
    "1. On constate que la valeur de la récompense affecte drastiquement le comportement de l'agent dans l'environnement.\n",
    "\n",
    "1.1 Si le cout du déplacement est positif ou nul, on constate:\n",
    "L'agent boucle dans le labyrinthe.\n",
    "\n",
    "2. Si le cout du déplacement est négatif, on constate trois cas :\n",
    "2.1 Si la valeur de la récompense de la case bleue est inférieure au cout du déplacement de la case initiale jusqu’à la case verte, l'agent choisi de perdre de la partie car ça lui coute moins cher.\n",
    "2.2 Si l’écart entre la valeur la récompense de la case bleue et la valeur la récompense de la case verte (reward positif) est très grand, autrement dit la reward_bleu ~ -inf, l’agent prend le chemin le plus long pour arriver la case verte de peur de tomber dans la case bleue.\n",
    "2.3 Si l’écart entre la valeur la récompense de la case bleue et la valeur la récompense de la case verte (reward positif) n’est pas grand, l’agent prend le chemin le plus court."
   ]
  },
  {
   "cell_type": "code",
   "execution_count": 15,
   "metadata": {},
   "outputs": [
    {
     "name": "stdout",
     "output_type": "stream",
     "text": [
      "['1 1 1 1 1 1\\n', '1 0 0 0 3 1\\n', '1 0 1 0 5 1\\n', '1 0 0 0 2 1\\n', '1 1 1 1 1 1\\n', '1 1 1 1 1 1']\n",
      "['1 1 1 1 1 1\\n', '1 0 0 0 3 1\\n', '1 0 1 0 5 1\\n', '1 0 0 0 2 1\\n', '1 1 1 1 1 1\\n', '1 1 1 1 1 1']\n",
      "done\n",
      "{0: 89.09356278711778, 1: 0, 2: 91.09362451760431, 3: 89.87272094447603, 4: 98.65252345091896, 5: 0, 6: 97.52752218387678, 7: 96.13689430221427, 8: 95.0118929302052, 9: 93.62126480981411, 10: 92.49626332414226}\n"
     ]
    },
    {
     "data": {
      "image/png": "[encoded data removed]",
      "text/plain": [
       "<Figure size 432x288 with 1 Axes>"
      ]
     },
     "metadata": {
      "needs_background": "light"
     },
     "output_type": "display_data"
    }
   ],
   "source": [
    "#1.1\n",
    "plan =  {0: -1, 3: 100 , 4: -1, 5: -1, 6: -1}\n",
    "agent, envx = main(plan)\n",
    "agent.plt_values()"
   ]
  },
  {
   "cell_type": "code",
   "execution_count": 60,
   "metadata": {},
   "outputs": [
    {
     "name": "stdout",
     "output_type": "stream",
     "text": [
      "{0: 0, 1: 0, 2: 0, 3: 0, 4: 0, 5: 0, 6: 0, 7: 0, 8: 0, 9: 0, 10: 0}\n"
     ]
    },
    {
     "data": {
      "text/plain": [
       "array([0, 1, 2, 3])"
      ]
     },
     "execution_count": 60,
     "metadata": {},
     "output_type": "execute_result"
    }
   ],
   "source": [
    "p =  {state : 0 for state in envx.getMDP()[0].values()}\n",
    "print(p)\n",
    "unique = np.unique([list(actions.keys()) for actions in envx.getMDP()[1].values()])\n",
    "#p =  {state : 0 for state in unique}\n",
    "unique"
   ]
  },
  {
   "cell_type": "code",
   "execution_count": 80,
   "metadata": {},
   "outputs": [],
   "source": [
    "actions_possibles = set([v for actions in envx.getMDP()[1].values() for v in list(actions.keys())])\n",
    "p = {state : random.choice(list(actions_possibles)) for state in range(len(envx.getMDP()[0].values()))}"
   ]
  },
  {
   "cell_type": "code",
   "execution_count": 81,
   "metadata": {},
   "outputs": [
    {
     "data": {
      "text/plain": [
       "{0: 0, 1: 2, 2: 3, 3: 2, 4: 2, 5: 0, 6: 0, 7: 1, 8: 3, 9: 3, 10: 1}"
      ]
     },
     "execution_count": 81,
     "metadata": {},
     "output_type": "execute_result"
    }
   ],
   "source": [
    "p"
   ]
  },
  {
   "cell_type": "code",
   "execution_count": 77,
   "metadata": {},
   "outputs": [
    {
     "data": {
      "text/plain": [
       "[2, 2, 2, 0, 0, 0, 1, 1, 0, 3, 2]"
      ]
     },
     "execution_count": 77,
     "metadata": {},
     "output_type": "execute_result"
    }
   ],
   "source": [
    "[random.choice(list(actions_possibles)) for _ in range(len(envx.getMDP()[0]))]"
   ]
  },
  {
   "cell_type": "code",
   "execution_count": 40,
   "metadata": {},
   "outputs": [
    {
     "name": "stdout",
     "output_type": "stream",
     "text": [
      "{0: 0.9997934902998437, 1: 0, 2: 0.9998615836071928, 3: 0.9995137425791893, 4: 0.9999447597067985, 5: 0, 6: 0.9999433620652634, 7: 0.9999401833776884, 8: 0.9999386699498807, 9: 0.9999352279269822, 10: 0.9999335891206993}\n"
     ]
    },
    {
     "data": {
      "image/png": "[encoded data removed]",
      "text/plain": [
       "<Figure size 432x288 with 1 Axes>"
      ]
     },
     "metadata": {
      "needs_background": "light"
     },
     "output_type": "display_data"
    }
   ],
   "source": [
    "#1.1\n",
    "plan =  {0: 2, 3: 100 , 4: -1, 5: -1, 6: -1}\n",
    "#agent = main(plan)\n",
    "agent.plt_values()"
   ]
  },
  {
   "cell_type": "code",
   "execution_count": null,
   "metadata": {},
   "outputs": [],
   "source": []
  },
  {
   "cell_type": "code",
   "execution_count": null,
   "metadata": {},
   "outputs": [],
   "source": []
  },
  {
   "cell_type": "code",
   "execution_count": null,
   "metadata": {},
   "outputs": [],
   "source": []
  },
  {
   "cell_type": "code",
   "execution_count": 35,
   "metadata": {},
   "outputs": [
    {
     "name": "stdout",
     "output_type": "stream",
     "text": [
      "{0: 0.9997934902998437, 1: 0, 2: 0.9998615836071928, 3: 0.9995137425791893, 4: 0.9999447597067985, 5: 0, 6: 0.9999433620652634, 7: 0.9999401833776884, 8: 0.9999386699498807, 9: 0.9999352279269822, 10: 0.9999335891206993}\n"
     ]
    },
    {
     "data": {
      "image/png": "[encoded data removed]",
      "text/plain": [
       "<Figure size 432x288 with 1 Axes>"
      ]
     },
     "metadata": {
      "needs_background": "light"
     },
     "output_type": "display_data"
    }
   ],
   "source": [
    "#1.1\n",
    "plan =  {0: 1, 3: 2 , 4: -1, 5: -100, 6: -1}\n",
    "#agent = main(plan)\n",
    "agent.plt_values()"
   ]
  },
  {
   "cell_type": "code",
   "execution_count": 32,
   "metadata": {},
   "outputs": [
    {
     "name": "stdout",
     "output_type": "stream",
     "text": [
      "['1 1 1 1 1 1\\n', '1 0 0 0 3 1\\n', '1 0 1 0 5 1\\n', '1 0 0 0 2 1\\n', '1 1 1 1 1 1\\n', '1 1 1 1 1 1']\n",
      "['1 1 1 1 1 1\\n', '1 0 0 0 3 1\\n', '1 0 1 0 5 1\\n', '1 0 0 0 2 1\\n', '1 1 1 1 1 1\\n', '1 1 1 1 1 1']\n",
      "done\n",
      "{0: 0.9997934902998437, 1: 0, 2: 0.9998615836071928, 3: 0.9995137425791893, 4: 0.9999447597067985, 5: 0, 6: 0.9999433620652634, 7: 0.9999401833776884, 8: 0.9999386699498807, 9: 0.9999352279269822, 10: 0.9999335891206993}\n"
     ]
    },
    {
     "data": {
      "image/png": "[encoded data removed]",
      "text/plain": [
       "<Figure size 432x288 with 1 Axes>"
      ]
     },
     "metadata": {
      "needs_background": "light"
     },
     "output_type": "display_data"
    }
   ],
   "source": [
    "#1.2\n",
    "plan =  {0: 0, 3: 1 , 4: -1, 5: -100, 6: -1}\n",
    "agent = main(plan)\n",
    "agent.plt_values()"
   ]
  },
  {
   "cell_type": "code",
   "execution_count": 16,
   "metadata": {},
   "outputs": [
    {
     "name": "stdout",
     "output_type": "stream",
     "text": [
      "['1 1 1 1 1 1\\n', '1 0 0 0 3 1\\n', '1 0 1 0 5 1\\n', '1 0 0 0 2 1\\n', '1 1 1 1 1 1\\n', '1 1 1 1 1 1']\n",
      "['1 1 1 1 1 1\\n', '1 0 0 0 3 1\\n', '1 0 1 0 5 1\\n', '1 0 0 0 2 1\\n', '1 1 1 1 1 1\\n', '1 1 1 1 1 1']\n",
      "done\n",
      "{0: -2.163652155580923, 1: 0, 2: -5.4728785353134555, 3: -1.9466955712047138, 4: 0.005922725206160551, 5: 0, 6: -3.369077254826464, 7: -7.540932845615481, 8: -10.9159218417128, 9: -12.410978584670309, 10: -8.847877433942058}\n"
     ]
    },
    {
     "data": {
      "image/png": "[encoded data removed]",
      "text/plain": [
       "<Figure size 432x288 with 1 Axes>"
      ]
     },
     "metadata": {
      "needs_background": "light"
     },
     "output_type": "display_data"
    }
   ],
   "source": [
    "#2.1\n",
    "plan =  {0: -3, 3: 1 , 4: -1, 5: -1, 6: -1}\n",
    "agent = main(plan)\n",
    "agent.plt_values()"
   ]
  },
  {
   "cell_type": "code",
   "execution_count": 15,
   "metadata": {},
   "outputs": [
    {
     "name": "stdout",
     "output_type": "stream",
     "text": [
      "['1 1 1 1 1 1\\n', '1 0 0 0 3 1\\n', '1 0 1 0 5 1\\n', '1 0 0 0 2 1\\n', '1 1 1 1 1 1\\n', '1 1 1 1 1 1']\n",
      "['1 1 1 1 1 1\\n', '1 0 0 0 3 1\\n', '1 0 1 0 5 1\\n', '1 0 0 0 2 1\\n', '1 1 1 1 1 1\\n', '1 1 1 1 1 1']\n",
      "done\n",
      "{0: -3.571426958255077, 1: 0, 2: 0.6071672453321454, 3: 5.301369781507981, 4: 10.589041081832756, 5: 0, 6: 7.214041072451179, 7: 3.042165787301826, 8: -0.33283437217929185, 9: -3.9367271934794266, 10: -2.767835421105878}\n"
     ]
    },
    {
     "data": {
      "image/png": "[encoded data removed]",
      "text/plain": [
       "<Figure size 432x288 with 1 Axes>"
      ]
     },
     "metadata": {
      "needs_background": "light"
     },
     "output_type": "display_data"
    }
   ],
   "source": [
    "#2.3\n",
    "plan =  {0: -3, 3: 12 , 4: -1, 5: -10, 6: -1}\n",
    "agent = main(plan)\n",
    "agent.plt_values()"
   ]
  },
  {
   "cell_type": "code",
   "execution_count": 14,
   "metadata": {},
   "outputs": [
    {
     "name": "stdout",
     "output_type": "stream",
     "text": [
      "['1 1 1 1 1 1\\n', '1 0 0 0 3 1\\n', '1 0 1 0 5 1\\n', '1 0 0 0 2 1\\n', '1 1 1 1 1 1\\n', '1 1 1 1 1 1']\n",
      "['1 1 1 1 1 1\\n', '1 0 0 0 3 1\\n', '1 0 1 0 5 1\\n', '1 0 0 0 2 1\\n', '1 1 1 1 1 1\\n', '1 1 1 1 1 1']\n",
      "done\n",
      "{0: -23.274235157138513, 1: 0, 2: -17.27429851570548, 3: -12.808219178082066, 4: 1.465753424657556, 5: 0, 6: -1.9092465753424293, 7: -6.081121575341355, 8: -9.456121575340749, 9: -13.627996575327801, 10: -17.002996575320598}\n"
     ]
    },
    {
     "data": {
      "image/png": "[encoded data removed]",
      "text/plain": [
       "<Figure size 432x288 with 1 Axes>"
      ]
     },
     "metadata": {
      "needs_background": "light"
     },
     "output_type": "display_data"
    }
   ],
   "source": [
    "#2.2\n",
    "plan =  {0: -3, 3: 4 , 4: -1, 5: -100, 6: -1}\n",
    "agent = main(plan)\n",
    "agent.plt_values()"
   ]
  },
  {
   "cell_type": "code",
   "execution_count": 10,
   "metadata": {},
   "outputs": [
    {
     "name": "stdout",
     "output_type": "stream",
     "text": [
      "['1 1 1 1 1 1\\n', '1 0 0 0 3 1\\n', '1 0 1 0 5 1\\n', '1 0 0 0 2 1\\n', '1 1 1 1 1 1\\n', '1 1 1 1 1 1']\n",
      "['1 1 1 1 1 1\\n', '1 0 0 0 3 1\\n', '1 0 1 0 5 1\\n', '1 0 0 0 2 1\\n', '1 1 1 1 1 1\\n', '1 1 1 1 1 1']\n",
      "done\n",
      "{0: 18.92735880699737, 1: 0, 2: 24.92742994844899, 3: 29.849315068492977, 4: 38.20547945205477, 5: 0, 6: 34.830479452054746, 7: 30.658604452052835, 8: 27.283604452051755, 9: 23.313472650876903, 10: 21.552428857460576}\n"
     ]
    },
    {
     "data": {
      "image/png": "[encoded data removed]",
      "text/plain": [
       "<Figure size 432x288 with 1 Axes>"
      ]
     },
     "metadata": {
      "needs_background": "light"
     },
     "output_type": "display_data"
    }
   ],
   "source": [
    "plan =  {0: -3, 3: 40 , 4: -1, 5: -10, 6: -1}\n",
    "agent = main(plan)\n",
    "agent.plt_values()"
   ]
  },
  {
   "cell_type": "raw",
   "metadata": {},
   "source": [
    "cours : https://www.coursera.org/lecture/practical-rl/policy-and-value-iteration-t3WSd?fbclid=IwAR1vlOT-IlOPEVGfldAWLkGppW3qEocnU9qCUbzlMQbvQMfPriaApKSuoHU"
   ]
  }
 ],
 "metadata": {
  "kernelspec": {
   "display_name": "Python 3",
   "language": "python",
   "name": "python3"
  },
  "language_info": {
   "codemirror_mode": {
    "name": "ipython",
    "version": 3
   },
   "file_extension": ".py",
   "mimetype": "text/x-python",
   "name": "python",
   "nbconvert_exporter": "python",
   "pygments_lexer": "ipython3",
   "version": "3.6.5"
  }
 },
 "nbformat": 4,
 "nbformat_minor": 2
}
